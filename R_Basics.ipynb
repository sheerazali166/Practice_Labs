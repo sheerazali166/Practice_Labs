{
 "cells": [
  {
   "cell_type": "markdown",
   "id": "25e944dd-2266-4314-b59e-2877652d3bbd",
   "metadata": {},
   "source": [
    "<h1>R Basics with Jupyter Notebook</h1>\n",
    "\n",
    "Estimated time needed: **15** minutes\n",
    "\n",
    "## Objectives\n",
    "\n",
    "After completing this lab you will be able to:\n",
    "\n",
    "-   Understand the sample dataset\n",
    "-   Create variables and perform basic math operations\n",
    "-   Perform basic strings operations\n"
   ]
  },
  {
   "cell_type": "markdown",
   "id": "fb78ad8e-7ee3-4ad7-8e32-33ab5c150999",
   "metadata": {},
   "source": [
    "## Table of Contents\n",
    "\n",
    "\n",
    "<ul>\n",
    "<li><a href=\"#About-the-Dataset\">About the Dataset</a></li>\n",
    "<li><a href=\"#Simple-Math-in-R\">Simple Math in R</a></li>\n",
    "<li><a href=\"#Variables-in-R\">Variables in R</a></li>\n",
    "<li><a href=\"#Strings-in-R\">Strings in R</a></li>\n",
    "</ul>"
   ]
  },
  {
   "cell_type": "markdown",
   "id": "7146c1a8-629c-49d1-b88c-29f39a670e0c",
   "metadata": {},
   "source": [
    "<a id=\"ref0\"></a>\n",
    "<h2 align=center>About the Dataset</h2>"
   ]
  },
  {
   "cell_type": "markdown",
   "id": "ba08e19a-1d18-4709-850c-2b645f0833c0",
   "metadata": {},
   "source": [
    "Which movie should you watch next?\n",
    "\n",
    "Let's say each of your friends tells you their favorite movies. You do some research on the movies and put it all into a table. Now you can begin exploring the dataset, and asking questions about the movies. For example, you can check if movies from some certain genres tend to get better ratings. You can check how the production cost for movies changes across years, and much more."
   ]
  },
  {
   "cell_type": "markdown",
   "id": "31144032-a1db-442b-be85-3de5b06de1ca",
   "metadata": {},
   "source": [
    "**Movies dataset**\n",
    "\n",
    "The table gathered includes one row for each movie, with several columns for each movie characteristic:\n",
    "\n",
    "- **name** - Name of the movie\n",
    "- **year** - Year the movie was released\n",
    "- **length_min** - Length of the movie (minutes)\n",
    "- **genre** - Genre of the movie\n",
    "- **average_rating** - Average rating on [IMDB](http://www.imdb.com/?utm_medium=Exinfluencer&utm_source=Exinfluencer&utm_content=000026UJ&utm_term=10006555&utm_id=NA-SkillsNetwork-Channel-SkillsNetworkCoursesIBMDeveloperSkillsNetworkRP0101ENCoursera889-2022-01-01)\n",
    "- **cost_millions** - Movie's production cost (millions in USD)\n",
    "- **foreign** - Is the movie foreign (1) or domestic (0)?\n",
    "- **age_restriction** - Age restriction for the movie\n",
    "<br>"
   ]
  },
  {
   "cell_type": "markdown",
   "id": "f630cce6-5460-4de9-8c49-701c43401f84",
   "metadata": {},
   "source": [
    "<img src=\"https://ibm.box.com/shared/static/6kr8sg0n6pc40zd1xn6hjhtvy3k7cmeq.png\" width=\"90%\" align=\"left\">"
   ]
  },
  {
   "cell_type": "markdown",
   "id": "fc9cca60-c420-4bdc-a981-2616e627661e",
   "metadata": {},
   "source": [
    "### We can use R to help us explore the dataset\n",
    "But to begin, we'll need to start from the basics, so let's get started!"
   ]
  },
  {
   "cell_type": "markdown",
   "id": "28bb6c01-afe6-430e-b573-ef6752ff0f2a",
   "metadata": {},
   "source": [
    "<a id=\"ref1\"></a>\n",
    "<h2 align=center> Simple Math in R </h2>"
   ]
  },
  {
   "cell_type": "markdown",
   "id": "cac46c6d-9565-47ab-84ab-1959954283a6",
   "metadata": {},
   "source": [
    "Let's say you want to watch *Fight Club* and *Star Wars: Episode IV (1977)*, back-to-back. Do you have enough time to **watch both movies in 4 hours?** Let's try using simple math in R.  "
   ]
  },
  {
   "cell_type": "markdown",
   "id": "be9c10ad-5bdd-4296-b09a-0891790767c6",
   "metadata": {},
   "source": [
    "What is the **total movie length** for Fight Club and Star Wars (1977)?\n",
    "- **Fight Club**: 139 min\n",
    "- **Star Wars: Episode IV**: 121 min"
   ]
  },
  {
   "cell_type": "markdown",
   "id": "e4e5baa4-ec4d-4c12-b36e-5f55b3f043c5",
   "metadata": {},
   "source": [
    "<div class=\"alert alert-success alertsuccess\" style=\"margin-top: 20px\">\n",
    "Tip: To run the grey code cell below, click on it, and press Shift + Enter.\n",
    "</div>"
   ]
  },
  {
   "cell_type": "code",
   "execution_count": 1,
   "id": "3143bded-b8bd-43e8-a2d9-ba23010ea91e",
   "metadata": {
    "tags": []
   },
   "outputs": [
    {
     "data": {
      "text/plain": [
       "260"
      ]
     },
     "execution_count": 1,
     "metadata": {},
     "output_type": "execute_result"
    }
   ],
   "source": [
    "139 + 121"
   ]
  },
  {
   "cell_type": "markdown",
   "id": "5495bb85-3bd9-4c98-a2e2-4689ec344e53",
   "metadata": {},
   "source": [
    "Great! You've determined that the total number of movie play time is **260 min**."
   ]
  },
  {
   "cell_type": "markdown",
   "id": "2aaef79b-60fc-4cec-96c8-2091990614e4",
   "metadata": {},
   "source": [
    "**What is 260 min in hours?**"
   ]
  },
  {
   "cell_type": "code",
   "execution_count": 2,
   "id": "a6e74ab9-2890-4d26-be49-0b33948755ec",
   "metadata": {
    "tags": []
   },
   "outputs": [
    {
     "data": {
      "text/plain": [
       "4.333333333333333"
      ]
     },
     "execution_count": 2,
     "metadata": {},
     "output_type": "execute_result"
    }
   ],
   "source": [
    "260 / 60"
   ]
  },
  {
   "cell_type": "markdown",
   "id": "9deb0048-d169-471d-afb0-6c05e588f28c",
   "metadata": {
    "tags": []
   },
   "source": [
    "Well, it looks like it's **over 4 hours**, which means you can't watch *Fight Club* and *Star Wars (1977)* back-to-back if you only have 4 hours available!"
   ]
  },
  {
   "cell_type": "markdown",
   "id": "89dd9e1d-efe7-4add-ab0e-a5e5f63765d9",
   "metadata": {},
   "source": [
    "<hr></hr>\n",
    "<div class=\"alert alert-success alertsuccess\" style=\"margin-top: 20px\">\n",
    "<h4> [Tip] Simple math in R </h4>\n",
    "<p></p>\n",
    "You can do a variety of mathematical operations in R including:  \n",
    "<li> addition: $2 + 2$ </li>\n",
    "<li> subtraction: $5 - 2$ </li>\n",
    "<li> multiplication: $3*2$ </li>\n",
    "<li> division: $4 / 2$ </li>\n",
    "<li> exponentiation: $4 ** 2$ or $4 ^ 2$ </li>\n",
    "</div>"
   ]
  },
  {
   "cell_type": "markdown",
   "id": "f78a009d-f7c4-4f06-afb6-4815dc7d4387",
   "metadata": {},
   "source": [
    "<a id=\"ref2\"></a>\n",
    "<h2 align=center> Variables in R </h2>"
   ]
  },
  {
   "cell_type": "markdown",
   "id": "772a547a-e6b9-45c6-839f-169ac1ed38d7",
   "metadata": {},
   "source": [
    "We can also **store** our output in **variables**, so we can use them later on. For example:\n"
   ]
  },
  {
   "cell_type": "code",
   "execution_count": 1,
   "id": "bb660b3a-733c-4c6b-afeb-6806b1a81872",
   "metadata": {
    "tags": []
   },
   "outputs": [],
   "source": [
    "x<- 139 + 121"
   ]
  },
  {
   "cell_type": "markdown",
   "id": "626f028f-19dc-48f8-9c9f-6f5b0e303bd0",
   "metadata": {},
   "source": [
    "To return the value of **`x`**, we can simply run the variable as a command:"
   ]
  },
  {
   "cell_type": "code",
   "execution_count": 2,
   "id": "94e15e9f-ea3a-4824-8078-416168778bf7",
   "metadata": {
    "tags": []
   },
   "outputs": [
    {
     "data": {
      "text/html": [
       "260"
      ],
      "text/latex": [
       "260"
      ],
      "text/markdown": [
       "260"
      ],
      "text/plain": [
       "[1] 260"
      ]
     },
     "metadata": {},
     "output_type": "display_data"
    }
   ],
   "source": [
    "x"
   ]
  },
  {
   "cell_type": "markdown",
   "id": "484aacbe-5e44-45d3-ad82-3a111bb852e2",
   "metadata": {
    "tags": []
   },
   "source": [
    "You can check its variable type using `class()` function"
   ]
  },
  {
   "cell_type": "code",
   "execution_count": 4,
   "id": "2db5a573-71b3-4f48-a3ad-17e9f10297ca",
   "metadata": {
    "tags": []
   },
   "outputs": [
    {
     "data": {
      "text/html": [
       "'numeric'"
      ],
      "text/latex": [
       "'numeric'"
      ],
      "text/markdown": [
       "'numeric'"
      ],
      "text/plain": [
       "[1] \"numeric\""
      ]
     },
     "metadata": {},
     "output_type": "display_data"
    }
   ],
   "source": [
    "class(x)"
   ]
  },
  {
   "cell_type": "markdown",
   "id": "8728c46b-fc04-4817-bd93-26ea21fcbd64",
   "metadata": {},
   "source": [
    "And cast the type of `x` to character"
   ]
  },
  {
   "cell_type": "code",
   "execution_count": 6,
   "id": "ff393070-8b93-4325-b84c-94e283204811",
   "metadata": {
    "tags": []
   },
   "outputs": [
    {
     "data": {
      "text/html": [
       "'numeric'"
      ],
      "text/latex": [
       "'numeric'"
      ],
      "text/markdown": [
       "'numeric'"
      ],
      "text/plain": [
       "[1] \"numeric\""
      ]
     },
     "metadata": {},
     "output_type": "display_data"
    }
   ],
   "source": [
    "x_char <- as.character(x)\n",
    "class(x)"
   ]
  },
  {
   "cell_type": "markdown",
   "id": "f4df16e2-5862-486b-8454-a7f7276bed4b",
   "metadata": {},
   "source": [
    "And cast it back to numeric"
   ]
  },
  {
   "cell_type": "code",
   "execution_count": 7,
   "id": "450513d6-3d95-4888-a968-dbd068006bf6",
   "metadata": {
    "tags": []
   },
   "outputs": [
    {
     "data": {
      "text/html": [
       "'numeric'"
      ],
      "text/latex": [
       "'numeric'"
      ],
      "text/markdown": [
       "'numeric'"
      ],
      "text/plain": [
       "[1] \"numeric\""
      ]
     },
     "metadata": {},
     "output_type": "display_data"
    }
   ],
   "source": [
    "x_num <- as.numeric(x_char)\n",
    "class(x_num)"
   ]
  },
  {
   "cell_type": "markdown",
   "id": "747554b6-ba9a-462a-9b26-9253c32b3b01",
   "metadata": {
    "tags": []
   },
   "source": [
    "We can also perform operations on **`x`** and save the result to a **new variable**:"
   ]
  },
  {
   "cell_type": "code",
   "execution_count": 9,
   "id": "a5563cac-4cea-4822-8533-b76d293549ee",
   "metadata": {
    "tags": []
   },
   "outputs": [
    {
     "data": {
      "text/html": [
       "4.33333333333333"
      ],
      "text/latex": [
       "4.33333333333333"
      ],
      "text/markdown": [
       "4.33333333333333"
      ],
      "text/plain": [
       "[1] 4.333333"
      ]
     },
     "metadata": {},
     "output_type": "display_data"
    }
   ],
   "source": [
    "y <- x / 60\n",
    "y"
   ]
  },
  {
   "cell_type": "markdown",
   "id": "0e5035ee-b2cf-4009-b73b-fd093a84591a",
   "metadata": {},
   "source": [
    "If we save something to an **existing variable**, it will **overwrite** the previous value:\n"
   ]
  },
  {
   "cell_type": "code",
   "execution_count": 10,
   "id": "fb3f8a5b-f2c2-4540-aa72-ba1225b8d47c",
   "metadata": {
    "tags": []
   },
   "outputs": [
    {
     "data": {
      "text/html": [
       "4.33333333333333"
      ],
      "text/latex": [
       "4.33333333333333"
      ],
      "text/markdown": [
       "4.33333333333333"
      ],
      "text/plain": [
       "[1] 4.333333"
      ]
     },
     "metadata": {},
     "output_type": "display_data"
    }
   ],
   "source": [
    "x <- x / 60\n",
    "x"
   ]
  },
  {
   "cell_type": "markdown",
   "id": "f9b36133-7898-4304-81c4-8c377a39d6a3",
   "metadata": {},
   "source": [
    "It's good practice to use **meaningful variable names**, so you don't have to keep track of what variable is what:\n"
   ]
  },
  {
   "cell_type": "code",
   "execution_count": 11,
   "id": "b222ea37-3bc8-40ea-8c69-354edd9f8f05",
   "metadata": {
    "tags": []
   },
   "outputs": [
    {
     "data": {
      "text/html": [
       "260"
      ],
      "text/latex": [
       "260"
      ],
      "text/markdown": [
       "260"
      ],
      "text/plain": [
       "[1] 260"
      ]
     },
     "metadata": {},
     "output_type": "display_data"
    }
   ],
   "source": [
    "total <- 139 + 121\n",
    "total"
   ]
  },
  {
   "cell_type": "code",
   "execution_count": 13,
   "id": "d5345982-5610-40d1-9225-d24682e2b287",
   "metadata": {
    "tags": []
   },
   "outputs": [
    {
     "data": {
      "text/html": [
       "4.33333333333333"
      ],
      "text/latex": [
       "4.33333333333333"
      ],
      "text/markdown": [
       "4.33333333333333"
      ],
      "text/plain": [
       "[1] 4.333333"
      ]
     },
     "metadata": {},
     "output_type": "display_data"
    }
   ],
   "source": [
    "total_hr <- total / 60\n",
    "total_hr"
   ]
  },
  {
   "cell_type": "markdown",
   "id": "7fb4c22c-dc23-41fc-a35d-db6e04817ee6",
   "metadata": {},
   "source": [
    "You can put this all into a single expression, but remember to use **round brackets** to add together the movie lengths first, before dividing by 60."
   ]
  },
  {
   "cell_type": "code",
   "execution_count": 14,
   "id": "6e53a88b-e6c8-4c61-afd5-d47c2c84e64d",
   "metadata": {
    "tags": []
   },
   "outputs": [
    {
     "data": {
      "text/html": [
       "4.33333333333333"
      ],
      "text/latex": [
       "4.33333333333333"
      ],
      "text/markdown": [
       "4.33333333333333"
      ],
      "text/plain": [
       "[1] 4.333333"
      ]
     },
     "metadata": {},
     "output_type": "display_data"
    }
   ],
   "source": [
    "total_hr <- (139 + 121) / 60\n",
    "total_hr"
   ]
  },
  {
   "cell_type": "markdown",
   "id": "42394834-7167-43bd-9271-b8902b808314",
   "metadata": {},
   "source": [
    "<hr></hr>\n",
    "<div class=\"alert alert-success alertsuccess\" style=\"margin-top: 0px\">\n",
    "<h4> [Tip] Variables in R </h4>\n",
    "<p></p>\n",
    "As you just learned, you can use variables to store values for repeated use. Here are some more characteristics of variables in R:\n",
    "<li>variables store the output of a block of code </li>\n",
    "<li>variables are typically assigned using $<-$, but can also be assigned using $=$, as in x $<-$ 1 or $x = 1$ </li>\n",
    "<li>once created, variables can be removed from memory using `rm(my_variable)`  </li>\n",
    "<p></p>\n",
    "</div>\n"
   ]
  },
  {
   "cell_type": "code",
   "execution_count": 15,
   "id": "f0a3177b-ac1b-4c4d-8d33-db64b7703f22",
   "metadata": {
    "tags": []
   },
   "outputs": [
    {
     "data": {
      "text/html": [
       "0.3"
      ],
      "text/latex": [
       "0.3"
      ],
      "text/markdown": [
       "0.3"
      ],
      "text/plain": [
       "[1] 0.3"
      ]
     },
     "metadata": {},
     "output_type": "display_data"
    }
   ],
   "source": [
    "# Write your code below. Don't forget to press Shift+Enter to execute the cell\n",
    "(139 - 121) /60"
   ]
  },
  {
   "cell_type": "markdown",
   "id": "ddddb698-050d-460f-b2bd-12b3ba03a217",
   "metadata": {},
   "source": [
    "<a id=\"ref4\"></a>\n",
    "<h2 align=center>Strings in R</h2>"
   ]
  },
  {
   "cell_type": "code",
   "execution_count": 16,
   "id": "26ba939a-5788-4f18-aac3-86424b0e39c3",
   "metadata": {
    "tags": []
   },
   "outputs": [
    {
     "data": {
      "text/html": [
       "'Toy Story'"
      ],
      "text/latex": [
       "'Toy Story'"
      ],
      "text/markdown": [
       "'Toy Story'"
      ],
      "text/plain": [
       "[1] \"Toy Story\""
      ]
     },
     "metadata": {},
     "output_type": "display_data"
    }
   ],
   "source": [
    "movie = \"Toy Story\"\n",
    "movie"
   ]
  },
  {
   "cell_type": "code",
   "execution_count": 17,
   "id": "4c0f8f1f-3720-40b3-8ae1-087ed5f28302",
   "metadata": {
    "tags": []
   },
   "outputs": [
    {
     "data": {
      "text/html": [
       "'character'"
      ],
      "text/latex": [
       "'character'"
      ],
      "text/markdown": [
       "'character'"
      ],
      "text/plain": [
       "[1] \"character\""
      ]
     },
     "metadata": {},
     "output_type": "display_data"
    }
   ],
   "source": [
    "class(movie)"
   ]
  },
  {
   "cell_type": "code",
   "execution_count": 19,
   "id": "9579ff85-1206-4b48-9595-efcd214f1b62",
   "metadata": {
    "tags": []
   },
   "outputs": [
    {
     "name": "stderr",
     "output_type": "stream",
     "text": [
      "Warning message in eval(expr, envir, enclos):\n",
      "“NAs introduced by coercion”"
     ]
    },
    {
     "data": {
      "text/html": [
       "&lt;NA&gt;"
      ],
      "text/latex": [
       "<NA>"
      ],
      "text/markdown": [
       "&lt;NA&gt;"
      ],
      "text/plain": [
       "[1] NA"
      ]
     },
     "metadata": {},
     "output_type": "display_data"
    }
   ],
   "source": [
    "as.numeric(movie)"
   ]
  },
  {
   "cell_type": "code",
   "execution_count": null,
   "id": "0b3cb29d-fb18-4c1e-bd47-297fb926308b",
   "metadata": {},
   "outputs": [],
   "source": []
  }
 ],
 "metadata": {
  "kernelspec": {
   "display_name": "R",
   "language": "R",
   "name": "conda-env-r-r"
  },
  "language_info": {
   "codemirror_mode": "r",
   "file_extension": ".r",
   "mimetype": "text/x-r-source",
   "name": "R",
   "pygments_lexer": "r",
   "version": "3.5.1"
  }
 },
 "nbformat": 4,
 "nbformat_minor": 5
}
